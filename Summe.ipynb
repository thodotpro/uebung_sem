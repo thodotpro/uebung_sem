{
 "cells": [
  {
   "cell_type": "code",
   "execution_count": 7,
   "id": "46962dcd-78fa-4153-9685-bd2b7fbd8a31",
   "metadata": {},
   "outputs": [],
   "source": [
    "# Bestellsumme\n",
    "\n",
    "# bestellsumme = nettobetrag + rabatt - steuern\n",
    "\n"
   ]
  },
  {
   "cell_type": "code",
   "execution_count": null,
   "id": "0adb5356-b80e-4ab6-a186-f6ddf80eb969",
   "metadata": {},
   "outputs": [],
   "source": []
  }
 ],
 "metadata": {
  "kernelspec": {
   "display_name": "Python 3 (ipykernel)",
   "language": "python",
   "name": "python3"
  },
  "language_info": {
   "codemirror_mode": {
    "name": "ipython",
    "version": 3
   },
   "file_extension": ".py",
   "mimetype": "text/x-python",
   "name": "python",
   "nbconvert_exporter": "python",
   "pygments_lexer": "ipython3",
   "version": "3.12.5"
  }
 },
 "nbformat": 4,
 "nbformat_minor": 5
}
